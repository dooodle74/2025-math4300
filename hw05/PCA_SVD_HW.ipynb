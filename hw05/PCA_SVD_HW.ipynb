{
 "cells": [
  {
   "cell_type": "markdown",
   "id": "1737c8b7",
   "metadata": {},
   "source": [
    "\n",
    "## PCA and SVD - What's the Connection?\n",
    "\n",
    "### What is PCA?\n",
    "\n",
    "Principal Component Analysis (PCA) is a technique used to reduce the dimensionality of a dataset while preserving as much variance as possible. It transforms the data into a new coordinate system such that:\n",
    "- The first axis (principal component) explains the most variance,\n",
    "- The second axis (next principal component) explains the next most, and so on.\n",
    "\n",
    "### Why PCA?\n",
    "\n",
    "- Compress data without losing too much information\n",
    "- Visualize high-dimensional datasets in 2D or 3D\n",
    "- Remove noise or redundant features\n",
    "\n",
    "---\n",
    "\n",
    "### What is SVD?\n",
    "\n",
    "Singular Value Decomposition (SVD) is a mathematical technique used to factorize a real (or complex) matrix \\( A \\) into three matrices:\n",
    "\n",
    "$$\n",
    "A = U \\Sigma V^T\n",
    "$$\n",
    "\n",
    "Where:\n",
    "- $U \\in \\mathbb{R}^{m \\times m}$ : Left singular vectors (orthonormal columns)\n",
    "- $\\Sigma \\in \\mathbb{R}^{m \\times n}$: Diagonal matrix with singular values\n",
    "- $V \\in \\mathbb{R}^{n \\times n}$: Right singular vectors (orthonormal rows of $V^T$)\n",
    "\n",
    "---\n",
    "\n",
    "### How is PCA related to SVD?\n",
    "\n",
    "PCA is typically done by:\n",
    "1. Standardizing the data (mean = 0 and variance = 1)\n",
    "2. Computing the covariance matrix $C = \\frac{1}{n-1}X^T X$\n",
    "3. Getting the eigenvectors and eigenvalues of $C$\n",
    "\n",
    "But **SVD gives us everything we need**:\n",
    "- If $X$ is the standardized data matrix, then:\n",
    "  - Columns of $V$ from the SVD of $X$ are the **principal directions**\n",
    "  - Singular values in $\\Sigma$ give us the **explained variance**\n",
    "\n",
    "So:\n",
    "- **Principal Components** = $X V$\n",
    "\n",
    "- **Explained Variance** = $\\frac{\\Sigma^2}{n - 1}$\n",
    "\n",
    "**In short:** PCA is a special application of SVD to centered data!\n",
    "\n",
    "---\n"
   ]
  },
  {
   "cell_type": "markdown",
   "id": "58091415",
   "metadata": {},
   "source": [
    "\n",
    "### Exercise 1: Manual SVD Decomposition (2x2 Matrix)\n"
   ]
  },
  {
   "cell_type": "code",
   "execution_count": null,
   "id": "493a42d0",
   "metadata": {},
   "outputs": [],
   "source": [
    "\n",
    "import numpy as np\n",
    "\n",
    "# Define a simple 2x2 matrix\n",
    "A = np.array([[3, 1],\n",
    "              [1, 3]])\n",
    "print(\"Matrix A:\")\n",
    "print(A)\n"
   ]
  },
  {
   "cell_type": "markdown",
   "id": "4a5f1d03",
   "metadata": {},
   "source": [
    "\n",
    "**Exercise 1:** Compute the SVD of this matrix by hand.  \n",
    "(Hint: Compute $A^T A$, find eigenvalues/vectors, and then follow the SVD process we discussed in class.)"
   ]
  },
  {
   "cell_type": "markdown",
   "id": "e85f49d9",
   "metadata": {},
   "source": [
    "\n",
    "### SVD and PCA in Python\n"
   ]
  },
  {
   "cell_type": "markdown",
   "id": "64bca596",
   "metadata": {},
   "source": [
    "### The Iris Dataset: Description and Use Case\n",
    "\n",
    "The **Iris dataset** is one of the most famous and widely used datasets in machine learning and statistics. It was introduced by the British biologist and statistician **Ronald Fisher** in 1936.\n",
    "\n",
    "#### Dataset Description:\n",
    "\n",
    "- **Samples**: 150 flower samples\n",
    "- **Classes**: 3 species of the Iris flower:\n",
    "  - *Iris setosa*\n",
    "  - *Iris versicolor*\n",
    "  - *Iris virginica*\n",
    "- **Features** (all continuous and measured in centimeters):\n",
    "  1. Sepal Length\n",
    "  2. Sepal Width\n",
    "  3. Petal Length\n",
    "  4. Petal Width\n",
    "\n",
    "Each sample is labeled with its corresponding species, making this a **multiclass classification** dataset.\n",
    "\n",
    "---\n",
    "\n",
    "#### Use Case:\n",
    "\n",
    "The Iris dataset is often used to:\n",
    "- Demonstrate and test **classification algorithms** (e.g., logistic regression, k-NN, decision trees, SVM)\n",
    "- Apply **dimensionality reduction techniques** such as PCA or t-SNE\n",
    "- Explore basic **data visualization** techniques (scatter plots, pairplots)\n",
    "- Teach foundational concepts in **machine learning**, **statistics**, and **pattern recognition**\n",
    "\n"
   ]
  },
  {
   "cell_type": "markdown",
   "id": "0c4f1300",
   "metadata": {},
   "source": [
    "## Singular Values and Explained Variance:\n",
    "\n",
    "### SVD:\n",
    "When you perform Singular Value Decomposition (SVD) on a matrix $X$ (with dimensions $N \\times D$), the singular values $\\sigma_1, \\sigma_2, \\dots, \\sigma_r$ represent the strength or magnitude of each principal component. These singular values correspond to the square roots of the eigenvalues of the matrix $X^T X$.\n",
    "\n",
    "### PCA:\n",
    "In Principal Component Analysis (PCA), the explained variance for each component is proportional to the eigenvalues of the covariance matrix. The explained variance can be directly related to the square of the singular values from SVD.\n",
    "\n",
    "### Relationship:\n",
    "Given the matrix $X$, where:\n",
    "\n",
    "- $X$ is the data matrix of size $N \\times D$ (with $N$ samples and $D$ features),\n",
    "- The singular values from SVD are $\\sigma_1, \\sigma_2, \\dots, \\sigma_r$,\n",
    "- The eigenvalues of the covariance matrix $X^T X$ are $\\lambda_1, \\lambda_2, \\dots, \\lambda_r$,\n",
    "\n",
    "the following relationship holds:\n",
    "\n",
    "$$ \\lambda_i = \\sigma_i^2 \\quad \\text{for each principal component} \\ i. $$\n",
    "\n",
    "The eigenvalues $\\lambda_i$ correspond to the explained variance in PCA. So, the square of the singular values gives the eigenvalues (and thus the explained variance in PCA).\n",
    "\n",
    "### How to Relate SVD Singular Values to PCA Explained Variance:\n",
    "If you want to get the explained variance using SVD, you can do it as follows:\n",
    "\n",
    "1. **Compute SVD**: Perform Singular Value Decomposition on the scaled data matrix $X$.\n",
    "2. **Square the Singular Values**: The squared singular values correspond to the eigenvalues of the covariance matrix.\n",
    "3. **Normalize the explained variance**: In PCA, the explained variance is usually normalized, so we divide by the total sum of squared singular values.\n"
   ]
  },
  {
   "cell_type": "markdown",
   "id": "42c7b80c",
   "metadata": {},
   "source": [
    "## Comparison of Singular Value Decomposition (SVD) and Principal Component Analysis (PCA)\n",
    "\n",
    "In this section, we compare two techniques: Singular Value Decomposition (SVD) and Principal Component Analysis (PCA). Both are used for dimensionality reduction and feature extraction, and they are closely related. We will use the Iris dataset to demonstrate the concepts.\n",
    "\n",
    "### Data Standardization\n",
    "\n",
    "Before applying either SVD or PCA for these types of calculations, it is important to standardize the data, especially when the features have different scales. Standardization ensures that each feature has a mean of 0 and a standard deviation of 1, making all features contribute equally to the analysis. We can perform this using the following formula:\n",
    "\n",
    "$$\n",
    "X_{\\text{scaled}} = \\frac{X - \\mu}{\\sigma}\n",
    "$$\n",
    "\n",
    "where $X$ is the original data matrix, $\\mu$ is the mean of each feature, and $\\sigma$ is the standard deviation of each feature.\n",
    "\n",
    "### Comparison Between SVD and PCA\n",
    "\n",
    "Both SVD and PCA are related and can be used for dimensionality reduction. In fact, PCA can be seen as a special case of SVD, where SVD is applied to the covariance matrix or the standardized data matrix.\n",
    "\n",
    "- **SVD** decomposes the data matrix $X$ into $U$, $\\Sigma$, and $V^T$, where the singular values in $\\Sigma$ correspond to the variance captured by each component.\n",
    "- **PCA** directly computes the eigenvectors and eigenvalues of the covariance matrix and provides the explained variance for each principal component.\n",
    "\n",
    "The key difference is that PCA directly provides the explained variance, which tells us how much of the original data's variability is captured by each component. In contrast, SVD gives us the singular values, which we can square to obtain the explained variance.\n"
   ]
  },
  {
   "cell_type": "markdown",
   "id": "fa319490",
   "metadata": {},
   "source": [
    "## Run the code below to see how PCA and SVD are related"
   ]
  },
  {
   "cell_type": "code",
   "execution_count": 25,
   "id": "e7d3c425",
   "metadata": {},
   "outputs": [
    {
     "name": "stdout",
     "output_type": "stream",
     "text": [
      "Singular values: [20.92306556 11.7091661   4.69185798  1.76273239]\n",
      "Eigenvalues from SVD (squared singular values): [437.77467248 137.10457072  22.01353134   3.10722546]\n",
      "Explained variance from SVD (normalized): [0.72962445 0.22850762 0.03668922 0.00517871]\n",
      "Explained variance from PCA: [0.72962445 0.22850762 0.03668922 0.00517871]\n"
     ]
    }
   ],
   "source": [
    "import numpy as np\n",
    "from sklearn.decomposition import PCA\n",
    "from sklearn.preprocessing import StandardScaler\n",
    "from sklearn.datasets import load_iris\n",
    "\n",
    "# Load and standardize data\n",
    "data = load_iris()\n",
    "X = data.data\n",
    "X_scaled = StandardScaler().fit_transform(X)\n",
    "\n",
    "# Apply SVD using NumPy\n",
    "U, S, VT = np.linalg.svd(X_scaled, full_matrices=False)\n",
    "\n",
    "# Show singular values\n",
    "print(\"Singular values:\", S)\n",
    "\n",
    "# Step 1: Compute eigenvalues (squared singular values)\n",
    "eigenvalues_svd = S ** 2\n",
    "print(\"Eigenvalues from SVD (squared singular values):\", eigenvalues_svd)\n",
    "\n",
    "# Step 2: Normalize the explained variance (by total variance)\n",
    "total_variance = np.sum(eigenvalues_svd)  # Total variance (sum of eigenvalues)\n",
    "explained_variance_svd = eigenvalues_svd / total_variance  # Normalize by total variance\n",
    "print(\"Explained variance from SVD (normalized):\", explained_variance_svd)\n",
    "\n",
    "# Compare to PCA\n",
    "pca = PCA()\n",
    "pca.fit(X_scaled)\n",
    "print(\"Explained variance from PCA:\", pca.explained_variance_ratio_)\n"
   ]
  },
  {
   "cell_type": "code",
   "execution_count": 24,
   "id": "bbbbf5b1",
   "metadata": {},
   "outputs": [
    {
     "data": {
      "image/png": "[encoded data removed]",
      "text/plain": [
       "<Figure size 640x480 with 1 Axes>"
      ]
     },
     "metadata": {},
     "output_type": "display_data"
    }
   ],
   "source": [
    "\n",
    "import matplotlib.pyplot as plt\n",
    "plt.plot(np.cumsum(pca.explained_variance_ratio_))\n",
    "plt.xlabel(\"Number of Components\")\n",
    "plt.ylabel(\"Cumulative Explained Variance\")\n",
    "plt.title(\"Explained Variance by PCA Components\")\n",
    "plt.grid(True)\n",
    "plt.show()\n"
   ]
  },
  {
   "cell_type": "markdown",
   "id": "0605ebcf",
   "metadata": {},
   "source": [
    "### Understanding Explained Variance in PCA (with the Iris Dataset)\n",
    "\n",
    "When we apply PCA to a dataset like the **Iris dataset**, we transform our original features (sepal length, sepal width, petal length, petal width) into **principal components** — new, uncorrelated variables that are linear combinations of the original features.\n",
    "\n",
    "Each **principal component** captures a certain amount of the **total variance** in the data. The **explained variance** tells us **how much information (variance)** is retained by each principal component.\n",
    "\n",
    "---\n",
    "\n",
    "#### Mathematically:\n",
    "\n",
    "Let $X \\in \\mathbb{R}^{n \\times d}$ be the standardized data matrix with:\n",
    "- $ n = 150 $: number of samples in the Iris dataset  \n",
    "- $ d = 4 $: number of original features\n",
    "\n",
    "We perform SVD:\n",
    "\n",
    "$$\n",
    "X = U \\Sigma V^T\n",
    "$$\n",
    "\n",
    "Then:\n",
    "- The **squared singular values** $ \\sigma_i^2 $ from $ \\Sigma $ correspond to the variance captured by each principal component.\n",
    "- The **explained variance ratio** for component $ i $ is:\n",
    "\n",
    "$$\n",
    "\\text{Explained Variance Ratio}_i = \\frac{\\sigma_i^2}{\\sum_j \\sigma_j^2}\n",
    "$$\n",
    "\n",
    "This ratio tells us the **proportion of the total dataset variance** that is captured by component $ i $.\n",
    "\n",
    "---\n",
    "\n",
    "#### Example (Iris Dataset):\n",
    "\n",
    "- **PC1** might explain ~72% of the variance  \n",
    "- **PC2** might explain ~23%  \n",
    "- Together, PC1 and PC2 capture ~95% of the total variance\n",
    "\n",
    "So, by projecting the Iris data onto just the first two principal components, we:\n",
    "- Retain most of the structure in the data  \n",
    "- Simplify our model by reducing dimensionality from 4 inputs (features) to just 2  \n",
    "- Can visualize the data in 2D while still preserving key relationships\n",
    "\n",
    "---\n",
    "\n",
    "### Why This Matters for Modeling:\n",
    "\n",
    "- **Dimensionality Reduction**: PCA reduces the number of input features while keeping the most informative ones. This helps prevent overfitting and speeds up training.\n",
    "- **Noise Filtering**: Lower-variance components often capture noise. Removing them improves model robustness.\n",
    "- **Feature Engineering**: The principal components can serve as **new, compact features** for downstream machine learning models.\n",
    "- **Visualization**: In datasets like Iris, PCA allows for meaningful 2D plots that reveal class structure.\n"
   ]
  },
  {
   "cell_type": "markdown",
   "id": "d49fb453",
   "metadata": {},
   "source": [
    "\n",
    "## Visualizing PCA\n",
    "- Run the code below to see the iris dataset after dimensionality reduction to just two principal components"
   ]
  },
  {
   "cell_type": "code",
   "execution_count": null,
   "id": "c11d3663",
   "metadata": {},
   "outputs": [],
   "source": [
    "\n",
    "# Project data onto first 2 principal components\n",
    "X_pca = pca.transform(X_scaled)[:, :2]\n",
    "\n",
    "plt.scatter(X_pca[:, 0], X_pca[:, 1], c=data.target, cmap='viridis')\n",
    "plt.xlabel(\"PC1\")\n",
    "plt.ylabel(\"PC2\")\n",
    "plt.title(\"PCA on Iris Dataset\")\n",
    "plt.show()\n"
   ]
  },
  {
   "cell_type": "markdown",
   "id": "515d5518",
   "metadata": {},
   "source": [
    "### Visualizing PCA on the Iris Dataset: Synopsis\n",
    "\n",
    "After performing PCA on the Iris dataset, we can project the original 4-dimensional feature space (sepal and petal measurements) into a new 2D space defined by the **first two principal components**.\n",
    "\n",
    "#### What We See in the Visualization:\n",
    "\n",
    "- **Each point** represents a single flower sample.\n",
    "- **Axes**: The x-axis is the **first principal component (PC1)**, and the y-axis is the **second principal component (PC2)**.\n",
    "- **Colors** represent the true species labels: *Setosa*, *Versicolor*, and *Virginica*.\n",
    "\n",
    "---\n",
    "\n",
    "#### Key Insights:\n",
    "\n",
    "- **PC1** captures most of the variance in the data (~72%), while **PC2** captures a significant portion (~23%).\n",
    "- **Setosa** is clearly separated from the other two species, indicating it has distinctive measurements.\n",
    "- **Versicolor** and **Virginica** overlap more, suggesting that PCA reveals some—but not all—of the class structure.\n",
    "\n",
    "---\n",
    "\n",
    "#### Interpretation:\n",
    "\n",
    "This PCA plot shows that:\n",
    "- We can reduce the dataset from 4 to 2 dimensions with minimal loss of information.\n",
    "- PCA helps uncover patterns and structure in the data that may not be obvious in the original feature space.\n",
    "- Such visualization is helpful for **exploratory data analysis**, **feature selection**, and understanding the **separability of classes** before applying classification models.\n"
   ]
  },
  {
   "cell_type": "markdown",
   "id": "d965b669",
   "metadata": {},
   "source": [
    "\n",
    "## More Problems (Don't forget exercise 1 above)\n",
    "\n",
    "#### Problem 1: Manually Decompose This 2x2 Matrix\n",
    "```python\n",
    "B = np.array([[4, 0],\n",
    "              [3, -5]])\n",
    "```\n",
    "*Find its SVD by hand then check your answer using this code.*\n"
   ]
  },
  {
   "cell_type": "code",
   "execution_count": 12,
   "id": "0f75cb84",
   "metadata": {},
   "outputs": [],
   "source": [
    "\n",
    "B = np.array([[4, 0],\n",
    "              [3, -5]])\n",
    "U_b, S_b, VT_b = np.linalg.svd(B, full_matrices=False)\n"
   ]
  },
  {
   "cell_type": "markdown",
   "id": "48d02a85",
   "metadata": {},
   "source": [
    "\n",
    "#### Problem 2: Use Python to Decompose a 5x5 Matrix $C$\n"
   ]
  },
  {
   "cell_type": "code",
   "execution_count": 13,
   "id": "98f8d7c1",
   "metadata": {},
   "outputs": [],
   "source": [
    "import numpy as np\n",
    "\n",
    "np.random.seed(42)\n",
    "C = np.random.randint(0, 10, size=(5, 5))\n"
   ]
  },
  {
   "cell_type": "markdown",
   "id": "eeb62ea4",
   "metadata": {},
   "source": [
    "#### Problem 3: Use SVD to decompose the following matrix into its SVD $U \\Sigma V^{T}$; then check that the product $U \\Sigma V^{T} = A$"
   ]
  },
  {
   "cell_type": "code",
   "execution_count": 14,
   "id": "3724fc3f",
   "metadata": {},
   "outputs": [],
   "source": [
    "import numpy as np\n",
    "\n",
    "# Problem: Perform SVD on a 3x3 matrix\n",
    "A = np.array([[4, 1, 2], [2, 3, 1], [1, 2, 3]])"
   ]
  },
  {
   "cell_type": "markdown",
   "id": "d271e2ec",
   "metadata": {},
   "source": [
    "#### Problem 4: Use SVD to decompose the following matrix into its SVD $U \\Sigma V^{T}$; then check that the product $U \\Sigma V^{T} = A$"
   ]
  },
  {
   "cell_type": "code",
   "execution_count": 15,
   "id": "a02a2ded",
   "metadata": {},
   "outputs": [],
   "source": [
    "import numpy as np\n",
    "\n",
    "# Problem: Perform SVD on a 6x4 matrix\n",
    "np.random.seed(0)\n",
    "C = np.random.randint(0, 10, size=(6, 4))\n"
   ]
  },
  {
   "cell_type": "markdown",
   "id": "a4847fa3",
   "metadata": {},
   "source": [
    "#### Problem 5: Use SVD to decompose the following matrix into its SVD $U \\Sigma V^{T}$; then check that the product $U \\Sigma V^{T} = A$"
   ]
  },
  {
   "cell_type": "markdown",
   "id": "401f756a",
   "metadata": {},
   "source": [
    "\n",
    "#### Problem 6: Try PCA on a Custom Dataset\n",
    "Try applying PCA via SVD to any dataset of your choice (you may use the code in this notebook). For example, you can use:\n",
    "- `load_digits()` from `sklearn.datasets`\n",
    "- A CSV file or any other type of file\n"
   ]
  },
  {
   "cell_type": "markdown",
   "id": "8ca72a6b",
   "metadata": {},
   "source": []
  }
 ],
 "metadata": {
  "kernelspec": {
   "display_name": "3.12.0",
   "language": "python",
   "name": "python3"
  },
  "language_info": {
   "codemirror_mode": {
    "name": "ipython",
    "version": 3
   },
   "file_extension": ".py",
   "mimetype": "text/x-python",
   "name": "python",
   "nbconvert_exporter": "python",
   "pygments_lexer": "ipython3",
   "version": "3.12.0"
  }
 },
 "nbformat": 4,
 "nbformat_minor": 5
}
